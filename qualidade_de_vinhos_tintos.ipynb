{
 "cells": [
  {
   "cell_type": "markdown",
   "metadata": {},
   "source": [
    "# **Qualidade de vinhos tintos**"
   ]
  },
  {
   "cell_type": "markdown",
   "metadata": {},
   "source": [
    "Vinho tinto é um tipo de vinho feito a partir de uvas pretas ou tintas e para sua produção é necessário que haja a maceração das cascas no mosto com a finalidade de atribuir cor e sabor à bebida.\n",
    "\n",
    "Historicamente, o vinho tem grande importância histórica e religiosa, estando presente em diversos períodos da humanidade. Cada cultura relata o surgimento da bebida de uma forma diferente. Os cristãos, por exemplo, acreditam que foi Noé quem produziu o primeiro vinho do mundo. Já os gregos consideraram o vinho como um presente dos deuses. Já do ponto de vista histórico, as evidências da produção de vinho foram encontradas em sítios arqueológicos na China (7000 a.C.), na Armênia (6100 a.C.), na Geórgia (6000 a.C.), no Levante (5000 a.C.), no Irã (5000 a.C.), na Grécia (4500 a.C.) e na Sicília (4000 a.C.). No entanto, as primeiras prensas e outros equipamentos vitivinícolas terem sido encontrados na Armênia em 4000 a.C. Ainda, os enólogos dizem que a bebida possa ter surgido por acaso, talvez por um pouco de uvas amassadas terem sido esquecidas em um recipiente e, posteriormente, sofreram a fermentação, criando o primeiro vinho.\n",
    "\n",
    "Atualmente, o vinho é a segunda bebida alcoólica mais consumida no mundo ficando atrás apenas da cerveja. E no Brasil é a terceira bebida alcoólica mais consumida. Além disso, o maior produtor de vinho é a França seguida pela Itália.\n",
    "\n",
    "Ainda, podemos citar alguns fatos interessantes sobre o vinho:\n",
    "- Os benefícios para saúde dos vinhos tintos vêm dos taninos;\n",
    "- Vinhos tintos novos são melhores do que os envelhecidos, se levar em conta o aspecto saúde, por terem maiores níveis de taninos;\n",
    "- Para ter a mesma quantidade de antioxidantes encontrados de uma garrafa de vinho, você teria que beber 20 copos de suco de maçã ou 7 copos de suco de laranja;\n",
    "- Apenas 5% de todo o vinho produzido vai realmente melhorar com o envelhecimento e os outros 95% devem ser bebidos até 1 ano após chegarem ao mercado;\n",
    "- Vinhos europeus, normalmente, são nomeados de acordo com a região em que são fabricados, vinhos não europeus, normalmente, são nomeados de acordo com as diferentes variedades de uvas."
   ]
  },
  {
   "cell_type": "markdown",
   "metadata": {},
   "source": [
    "## **Obtenção dos dados**"
   ]
  },
  {
   "cell_type": "markdown",
   "metadata": {},
   "source": [
    "O conjunto de dados foi obtido no site [Kaggle](https://www.kaggle.com/uciml/red-wine-quality-cortez-et-al-2009) e é descrito da seguinte forma:\n",
    "> O conjunto de dados está relacionado a variante tinto do vinho Português \"Vinho Verde\" (Para mais detalhes: [clique aqui](https://www.vinhoverde.pt/) - além disso consulte a referência Cortez et al. (2009)).\n",
    ">\n",
    "> Devido a questões de privacidade e logística, apenas variáveis físico-químicas (variáveis independentes) e sensoriais (variável classe) estão disponíveis (por exemplo, não há dados sobre tipo de uva, wine brand, preço de venda do vinho, etc.)\n",
    ">\n",
    "> Além disso, a variável classe está ordenada e desbalanceada (há muito mais vinhos normais do que excelentes ou ruins)."
   ]
  },
  {
   "cell_type": "markdown",
   "metadata": {},
   "source": [
    "## **Dicionário de variáveis**"
   ]
  },
  {
   "cell_type": "markdown",
   "metadata": {},
   "source": [
    "**Variável**|**Descrição**\n",
    "------------|-------------\n",
    "`fixed acidity`|Acidez fixa - diferença entre a acidez total e a acidez volátil.\n",
    "`volatile acidity`| Acidez volátil - ácido acético que é formado na fermentação alcoólica e, em dose elevada, origina o aroma a vinagre.\n",
    "`citric acid`|Ácido cítrico - é um ácido orgânico forte, normalmente presente em fracas quantidades nos mostos de uva e geralmente ausente nos vinhos.\n",
    "`residual sugar`|Açúcar residual - açúcar que sobra após terminar a fermentação alcoólica.\n",
    "`chlorides`|Cloretos - indica a presença de sal no vinho.\n",
    "`free sulfur dioxide`|Dióxido de enxofre livre - é uma medida da quantidade de dióxido de enxofre que não está ligado a outras moléculas.\n",
    "`total sulfur dioxide`|Dióxido de enxofre total - é uma médida de ambos os dióxidos de enxofre, livre e ligado a outras moléculas.\n",
    "`density`|Densidade.\n",
    "`pH`|pH.\n",
    "`sulphates`|Sulfatos - indica a presença de sais de ácido sulfúrico.\n",
    "`alcohol`|Álcool.\n",
    "`quality`| Qualidade - indica a qualidade do vinho de 0 a 10, sendo 0 a pior nota e 10 a melhor."
   ]
  },
  {
   "cell_type": "markdown",
   "metadata": {},
   "source": [
    "## **Importando os pacotes necessários e os dados**"
   ]
  },
  {
   "cell_type": "code",
   "execution_count": 1,
   "metadata": {},
   "outputs": [],
   "source": [
    "# Importando as bibliotecas\n",
    "import pandas as pd\n",
    "import matplotlib.pyplot as plt\n",
    "import seaborn as sns\n",
    "import numpy as np\n",
    "\n",
    "%matplotlib inline\n",
    "\n",
    "# Configurando o notebook\n",
    "sns.set(style='white')\n",
    "\n",
    "# Carregando os dados\n",
    "df = pd.read_csv(\"./Dataset/winequality-red.csv\", sep=\";\")"
   ]
  },
  {
   "cell_type": "markdown",
   "metadata": {},
   "source": [
    "**Primeiras entradas e dimensões do conjunto de dados**"
   ]
  },
  {
   "cell_type": "code",
   "execution_count": 2,
   "metadata": {},
   "outputs": [
    {
     "name": "stdout",
     "output_type": "stream",
     "text": [
      "Dimensões do conjunto de dados:\n",
      "1599 linhas e 12 colunas\n",
      "\n",
      "Primeiras entradas:\n"
     ]
    },
    {
     "data": {
      "text/html": [
       "<div>\n",
       "<style scoped>\n",
       "    .dataframe tbody tr th:only-of-type {\n",
       "        vertical-align: middle;\n",
       "    }\n",
       "\n",
       "    .dataframe tbody tr th {\n",
       "        vertical-align: top;\n",
       "    }\n",
       "\n",
       "    .dataframe thead th {\n",
       "        text-align: right;\n",
       "    }\n",
       "</style>\n",
       "<table border=\"1\" class=\"dataframe\">\n",
       "  <thead>\n",
       "    <tr style=\"text-align: right;\">\n",
       "      <th></th>\n",
       "      <th>fixed acidity</th>\n",
       "      <th>volatile acidity</th>\n",
       "      <th>citric acid</th>\n",
       "      <th>residual sugar</th>\n",
       "      <th>chlorides</th>\n",
       "      <th>free sulfur dioxide</th>\n",
       "      <th>total sulfur dioxide</th>\n",
       "      <th>density</th>\n",
       "      <th>pH</th>\n",
       "      <th>sulphates</th>\n",
       "      <th>alcohol</th>\n",
       "      <th>quality</th>\n",
       "    </tr>\n",
       "  </thead>\n",
       "  <tbody>\n",
       "    <tr>\n",
       "      <th>0</th>\n",
       "      <td>7.4</td>\n",
       "      <td>0.70</td>\n",
       "      <td>0.00</td>\n",
       "      <td>1.9</td>\n",
       "      <td>0.076</td>\n",
       "      <td>11.0</td>\n",
       "      <td>34.0</td>\n",
       "      <td>0.9978</td>\n",
       "      <td>3.51</td>\n",
       "      <td>0.56</td>\n",
       "      <td>9.4</td>\n",
       "      <td>5</td>\n",
       "    </tr>\n",
       "    <tr>\n",
       "      <th>1</th>\n",
       "      <td>7.8</td>\n",
       "      <td>0.88</td>\n",
       "      <td>0.00</td>\n",
       "      <td>2.6</td>\n",
       "      <td>0.098</td>\n",
       "      <td>25.0</td>\n",
       "      <td>67.0</td>\n",
       "      <td>0.9968</td>\n",
       "      <td>3.20</td>\n",
       "      <td>0.68</td>\n",
       "      <td>9.8</td>\n",
       "      <td>5</td>\n",
       "    </tr>\n",
       "    <tr>\n",
       "      <th>2</th>\n",
       "      <td>7.8</td>\n",
       "      <td>0.76</td>\n",
       "      <td>0.04</td>\n",
       "      <td>2.3</td>\n",
       "      <td>0.092</td>\n",
       "      <td>15.0</td>\n",
       "      <td>54.0</td>\n",
       "      <td>0.9970</td>\n",
       "      <td>3.26</td>\n",
       "      <td>0.65</td>\n",
       "      <td>9.8</td>\n",
       "      <td>5</td>\n",
       "    </tr>\n",
       "    <tr>\n",
       "      <th>3</th>\n",
       "      <td>11.2</td>\n",
       "      <td>0.28</td>\n",
       "      <td>0.56</td>\n",
       "      <td>1.9</td>\n",
       "      <td>0.075</td>\n",
       "      <td>17.0</td>\n",
       "      <td>60.0</td>\n",
       "      <td>0.9980</td>\n",
       "      <td>3.16</td>\n",
       "      <td>0.58</td>\n",
       "      <td>9.8</td>\n",
       "      <td>6</td>\n",
       "    </tr>\n",
       "    <tr>\n",
       "      <th>4</th>\n",
       "      <td>7.4</td>\n",
       "      <td>0.70</td>\n",
       "      <td>0.00</td>\n",
       "      <td>1.9</td>\n",
       "      <td>0.076</td>\n",
       "      <td>11.0</td>\n",
       "      <td>34.0</td>\n",
       "      <td>0.9978</td>\n",
       "      <td>3.51</td>\n",
       "      <td>0.56</td>\n",
       "      <td>9.4</td>\n",
       "      <td>5</td>\n",
       "    </tr>\n",
       "  </tbody>\n",
       "</table>\n",
       "</div>"
      ],
      "text/plain": [
       "   fixed acidity  volatile acidity  citric acid  residual sugar  chlorides  \\\n",
       "0            7.4              0.70         0.00             1.9      0.076   \n",
       "1            7.8              0.88         0.00             2.6      0.098   \n",
       "2            7.8              0.76         0.04             2.3      0.092   \n",
       "3           11.2              0.28         0.56             1.9      0.075   \n",
       "4            7.4              0.70         0.00             1.9      0.076   \n",
       "\n",
       "   free sulfur dioxide  total sulfur dioxide  density    pH  sulphates  \\\n",
       "0                 11.0                  34.0   0.9978  3.51       0.56   \n",
       "1                 25.0                  67.0   0.9968  3.20       0.68   \n",
       "2                 15.0                  54.0   0.9970  3.26       0.65   \n",
       "3                 17.0                  60.0   0.9980  3.16       0.58   \n",
       "4                 11.0                  34.0   0.9978  3.51       0.56   \n",
       "\n",
       "   alcohol  quality  \n",
       "0      9.4        5  \n",
       "1      9.8        5  \n",
       "2      9.8        5  \n",
       "3      9.8        6  \n",
       "4      9.4        5  "
      ]
     },
     "execution_count": 2,
     "metadata": {},
     "output_type": "execute_result"
    }
   ],
   "source": [
    "# Dimensões do dataset\n",
    "print(\"Dimensões do conjunto de dados:\\n{} linhas e {} colunas\\n\".format(df.shape[0], df.shape[1]))\n",
    "\n",
    "# Primeiras entradas do dataset\n",
    "print(\"Primeiras entradas:\")\n",
    "df.head()"
   ]
  },
  {
   "cell_type": "markdown",
   "metadata": {},
   "source": [
    "## **Análise Exploratória dos Dados**"
   ]
  },
  {
   "cell_type": "markdown",
   "metadata": {},
   "source": [
    "Nesta seção, vou verificar a integridade e a usabilidade do conjunto de dados, verificando diferentes características do conjunto. \n",
    "Para isso, irei mostrar o nome dos atributos, se há valores ausentes e o tipo de cada coluna. **TERMINAR DEPOIS QUE COMEÇAR A ANÁLISE**"
   ]
  },
  {
   "cell_type": "code",
   "execution_count": 3,
   "metadata": {},
   "outputs": [
    {
     "name": "stdout",
     "output_type": "stream",
     "text": [
      "Nome dos atributos:\n",
      "['fixed acidity' 'volatile acidity' 'citric acid' 'residual sugar'\n",
      " 'chlorides' 'free sulfur dioxide' 'total sulfur dioxide' 'density' 'pH'\n",
      " 'sulphates' 'alcohol' 'quality']\n",
      "\n",
      "Quantidade de valores ausentes por atributo:\n",
      "fixed acidity           0\n",
      "volatile acidity        0\n",
      "citric acid             0\n",
      "residual sugar          0\n",
      "chlorides               0\n",
      "free sulfur dioxide     0\n",
      "total sulfur dioxide    0\n",
      "density                 0\n",
      "pH                      0\n",
      "sulphates               0\n",
      "alcohol                 0\n",
      "quality                 0\n",
      "dtype: int64\n",
      "\n",
      "Tipo de cada atributo:\n",
      "fixed acidity           float64\n",
      "volatile acidity        float64\n",
      "citric acid             float64\n",
      "residual sugar          float64\n",
      "chlorides               float64\n",
      "free sulfur dioxide     float64\n",
      "total sulfur dioxide    float64\n",
      "density                 float64\n",
      "pH                      float64\n",
      "sulphates               float64\n",
      "alcohol                 float64\n",
      "quality                   int64\n",
      "dtype: object\n"
     ]
    }
   ],
   "source": [
    "print(\"Nome dos atributos:\\n{}\".format(df.columns.values))\n",
    "print(\"\\nQuantidade de valores ausentes por atributo:\\n{}\".format(df.isnull().sum()))\n",
    "print(\"\\nTipo de cada atributo:\\n{}\".format(df.dtypes))"
   ]
  },
  {
   "cell_type": "markdown",
   "metadata": {},
   "source": [
    "Percebemos que não há valores ausentes no conjunto de dados, com isso não será necessário fazer um tratamento nesse sentido. E, também, as *features* (variáveis independentes) são do tipo `float64`e a variável classe (`quality`) é do tipo `int64`, ou seja, já estão corretas e também não será preciso tratá-las."
   ]
  },
  {
   "cell_type": "markdown",
   "metadata": {},
   "source": [
    "### **Resumo estatístico**"
   ]
  },
  {
   "cell_type": "code",
   "execution_count": 5,
   "metadata": {},
   "outputs": [
    {
     "data": {
      "text/html": [
       "<div>\n",
       "<style scoped>\n",
       "    .dataframe tbody tr th:only-of-type {\n",
       "        vertical-align: middle;\n",
       "    }\n",
       "\n",
       "    .dataframe tbody tr th {\n",
       "        vertical-align: top;\n",
       "    }\n",
       "\n",
       "    .dataframe thead th {\n",
       "        text-align: right;\n",
       "    }\n",
       "</style>\n",
       "<table border=\"1\" class=\"dataframe\">\n",
       "  <thead>\n",
       "    <tr style=\"text-align: right;\">\n",
       "      <th></th>\n",
       "      <th>fixed acidity</th>\n",
       "      <th>volatile acidity</th>\n",
       "      <th>citric acid</th>\n",
       "      <th>residual sugar</th>\n",
       "      <th>chlorides</th>\n",
       "      <th>free sulfur dioxide</th>\n",
       "      <th>total sulfur dioxide</th>\n",
       "      <th>density</th>\n",
       "      <th>pH</th>\n",
       "      <th>sulphates</th>\n",
       "      <th>alcohol</th>\n",
       "      <th>quality</th>\n",
       "    </tr>\n",
       "  </thead>\n",
       "  <tbody>\n",
       "    <tr>\n",
       "      <th>count</th>\n",
       "      <td>1599.000000</td>\n",
       "      <td>1599.000000</td>\n",
       "      <td>1599.000000</td>\n",
       "      <td>1599.000000</td>\n",
       "      <td>1599.000000</td>\n",
       "      <td>1599.000000</td>\n",
       "      <td>1599.000000</td>\n",
       "      <td>1599.000000</td>\n",
       "      <td>1599.000000</td>\n",
       "      <td>1599.000000</td>\n",
       "      <td>1599.000000</td>\n",
       "      <td>1599.000000</td>\n",
       "    </tr>\n",
       "    <tr>\n",
       "      <th>mean</th>\n",
       "      <td>8.319637</td>\n",
       "      <td>0.527821</td>\n",
       "      <td>0.270976</td>\n",
       "      <td>2.538806</td>\n",
       "      <td>0.087467</td>\n",
       "      <td>15.874922</td>\n",
       "      <td>46.467792</td>\n",
       "      <td>0.996747</td>\n",
       "      <td>3.311113</td>\n",
       "      <td>0.658149</td>\n",
       "      <td>10.422983</td>\n",
       "      <td>5.636023</td>\n",
       "    </tr>\n",
       "    <tr>\n",
       "      <th>std</th>\n",
       "      <td>1.741096</td>\n",
       "      <td>0.179060</td>\n",
       "      <td>0.194801</td>\n",
       "      <td>1.409928</td>\n",
       "      <td>0.047065</td>\n",
       "      <td>10.460157</td>\n",
       "      <td>32.895324</td>\n",
       "      <td>0.001887</td>\n",
       "      <td>0.154386</td>\n",
       "      <td>0.169507</td>\n",
       "      <td>1.065668</td>\n",
       "      <td>0.807569</td>\n",
       "    </tr>\n",
       "    <tr>\n",
       "      <th>min</th>\n",
       "      <td>4.600000</td>\n",
       "      <td>0.120000</td>\n",
       "      <td>0.000000</td>\n",
       "      <td>0.900000</td>\n",
       "      <td>0.012000</td>\n",
       "      <td>1.000000</td>\n",
       "      <td>6.000000</td>\n",
       "      <td>0.990070</td>\n",
       "      <td>2.740000</td>\n",
       "      <td>0.330000</td>\n",
       "      <td>8.400000</td>\n",
       "      <td>3.000000</td>\n",
       "    </tr>\n",
       "    <tr>\n",
       "      <th>25%</th>\n",
       "      <td>7.100000</td>\n",
       "      <td>0.390000</td>\n",
       "      <td>0.090000</td>\n",
       "      <td>1.900000</td>\n",
       "      <td>0.070000</td>\n",
       "      <td>7.000000</td>\n",
       "      <td>22.000000</td>\n",
       "      <td>0.995600</td>\n",
       "      <td>3.210000</td>\n",
       "      <td>0.550000</td>\n",
       "      <td>9.500000</td>\n",
       "      <td>5.000000</td>\n",
       "    </tr>\n",
       "    <tr>\n",
       "      <th>50%</th>\n",
       "      <td>7.900000</td>\n",
       "      <td>0.520000</td>\n",
       "      <td>0.260000</td>\n",
       "      <td>2.200000</td>\n",
       "      <td>0.079000</td>\n",
       "      <td>14.000000</td>\n",
       "      <td>38.000000</td>\n",
       "      <td>0.996750</td>\n",
       "      <td>3.310000</td>\n",
       "      <td>0.620000</td>\n",
       "      <td>10.200000</td>\n",
       "      <td>6.000000</td>\n",
       "    </tr>\n",
       "    <tr>\n",
       "      <th>75%</th>\n",
       "      <td>9.200000</td>\n",
       "      <td>0.640000</td>\n",
       "      <td>0.420000</td>\n",
       "      <td>2.600000</td>\n",
       "      <td>0.090000</td>\n",
       "      <td>21.000000</td>\n",
       "      <td>62.000000</td>\n",
       "      <td>0.997835</td>\n",
       "      <td>3.400000</td>\n",
       "      <td>0.730000</td>\n",
       "      <td>11.100000</td>\n",
       "      <td>6.000000</td>\n",
       "    </tr>\n",
       "    <tr>\n",
       "      <th>max</th>\n",
       "      <td>15.900000</td>\n",
       "      <td>1.580000</td>\n",
       "      <td>1.000000</td>\n",
       "      <td>15.500000</td>\n",
       "      <td>0.611000</td>\n",
       "      <td>72.000000</td>\n",
       "      <td>289.000000</td>\n",
       "      <td>1.003690</td>\n",
       "      <td>4.010000</td>\n",
       "      <td>2.000000</td>\n",
       "      <td>14.900000</td>\n",
       "      <td>8.000000</td>\n",
       "    </tr>\n",
       "  </tbody>\n",
       "</table>\n",
       "</div>"
      ],
      "text/plain": [
       "       fixed acidity  volatile acidity  citric acid  residual sugar  \\\n",
       "count    1599.000000       1599.000000  1599.000000     1599.000000   \n",
       "mean        8.319637          0.527821     0.270976        2.538806   \n",
       "std         1.741096          0.179060     0.194801        1.409928   \n",
       "min         4.600000          0.120000     0.000000        0.900000   \n",
       "25%         7.100000          0.390000     0.090000        1.900000   \n",
       "50%         7.900000          0.520000     0.260000        2.200000   \n",
       "75%         9.200000          0.640000     0.420000        2.600000   \n",
       "max        15.900000          1.580000     1.000000       15.500000   \n",
       "\n",
       "         chlorides  free sulfur dioxide  total sulfur dioxide      density  \\\n",
       "count  1599.000000          1599.000000           1599.000000  1599.000000   \n",
       "mean      0.087467            15.874922             46.467792     0.996747   \n",
       "std       0.047065            10.460157             32.895324     0.001887   \n",
       "min       0.012000             1.000000              6.000000     0.990070   \n",
       "25%       0.070000             7.000000             22.000000     0.995600   \n",
       "50%       0.079000            14.000000             38.000000     0.996750   \n",
       "75%       0.090000            21.000000             62.000000     0.997835   \n",
       "max       0.611000            72.000000            289.000000     1.003690   \n",
       "\n",
       "                pH    sulphates      alcohol      quality  \n",
       "count  1599.000000  1599.000000  1599.000000  1599.000000  \n",
       "mean      3.311113     0.658149    10.422983     5.636023  \n",
       "std       0.154386     0.169507     1.065668     0.807569  \n",
       "min       2.740000     0.330000     8.400000     3.000000  \n",
       "25%       3.210000     0.550000     9.500000     5.000000  \n",
       "50%       3.310000     0.620000    10.200000     6.000000  \n",
       "75%       3.400000     0.730000    11.100000     6.000000  \n",
       "max       4.010000     2.000000    14.900000     8.000000  "
      ]
     },
     "execution_count": 5,
     "metadata": {},
     "output_type": "execute_result"
    }
   ],
   "source": [
    "df.describe()"
   ]
  },
  {
   "cell_type": "markdown",
   "metadata": {},
   "source": [
    "Pelo resumo estatístico, podemos ver que a variável `quality` varia de 3 a 8, mesmo ela podendo variar de 0 a 10, ou seja, nenhum vinho foi tão ruim a ponto de receber 0 ou tão bom a ponto de receber 10."
   ]
  },
  {
   "cell_type": "markdown",
   "metadata": {},
   "source": [
    "Com isso, vamos separar a variável `quality` em apenas duas categorias 'bom' ou 'ruim', sendo que os vinhos que receberam notas menor ou igual a 6 serão coniderados 'ruim' e os que receberam nota maior que 6 serão considerados 'bom'."
   ]
  },
  {
   "cell_type": "code",
   "execution_count": 73,
   "metadata": {},
   "outputs": [],
   "source": [
    "# Categorizando a variável quality e criando a variável quality_cat\n",
    "df['quality_cat'] = pd.cut(df['quality'], bins=(2, 6.1, 8), labels = ['ruim', 'bom'])"
   ]
  },
  {
   "cell_type": "markdown",
   "metadata": {},
   "source": [
    "Após categorizar a variável `quality` e armazenar a categorização na variável `quality_cat`, vou transformar a entrada 'ruim' em 0 e a entrada 'bom' em 1."
   ]
  },
  {
   "cell_type": "code",
   "execution_count": 75,
   "metadata": {},
   "outputs": [],
   "source": [
    "# Importando o LabelEnconder()\n",
    "from sklearn.preprocessing import LabelEncoder\n",
    "\n",
    "# Transformando em 0 e 1\n",
    "df['quality_cat'] = LabelEncoder().fit_transform(df['quality_cat'])"
   ]
  },
  {
   "cell_type": "code",
   "execution_count": 76,
   "metadata": {},
   "outputs": [
    {
     "data": {
      "text/plain": [
       "1    1382\n",
       "0     217\n",
       "Name: quality_cat, dtype: int64"
      ]
     },
     "execution_count": 76,
     "metadata": {},
     "output_type": "execute_result"
    }
   ],
   "source": [
    "# Verificando a quantidade de 0 e de 1\n",
    "df['quality_cat'].value_counts()"
   ]
  },
  {
   "cell_type": "code",
   "execution_count": null,
   "metadata": {},
   "outputs": [],
   "source": []
  },
  {
   "cell_type": "code",
   "execution_count": null,
   "metadata": {},
   "outputs": [],
   "source": []
  },
  {
   "cell_type": "code",
   "execution_count": null,
   "metadata": {},
   "outputs": [],
   "source": []
  },
  {
   "cell_type": "code",
   "execution_count": null,
   "metadata": {},
   "outputs": [],
   "source": []
  },
  {
   "cell_type": "markdown",
   "metadata": {},
   "source": [
    "Além disso, vamos verificar se há *outliers* nas variáveis: `volatile acidity`, `residual sugar`, `chlorides`, `free sulfur dioxide`, `total sulfur dioxide` e `sulphates`.\n",
    "\n",
    "Fazendo os boxplots:"
   ]
  },
  {
   "cell_type": "code",
   "execution_count": 21,
   "metadata": {},
   "outputs": [
    {
     "data": {
      "image/png": "[encoded data removed]",
      "text/plain": [
       "<Figure size 1152x864 with 6 Axes>"
      ]
     },
     "metadata": {},
     "output_type": "display_data"
    }
   ],
   "source": [
    "# Configurando o plot\n",
    "fig, ax = plt.subplots(nrows=3, ncols=2, figsize=(16, 12))\n",
    "\n",
    "sns.boxplot(df['volatile acidity'], ax=ax[0, 0])\n",
    "sns.boxplot(df['residual sugar'], ax=ax[0, 1])\n",
    "sns.boxplot(df['chlorides'], ax=ax[1, 0])\n",
    "sns.boxplot(df['free sulfur dioxide'], ax=ax[1, 1])\n",
    "sns.boxplot(df['total sulfur dioxide'], ax=ax[2, 0])\n",
    "sns.boxplot(df['sulphates'], ax=ax[2, 1])\n",
    "\n",
    "plt.tight_layout()"
   ]
  },
  {
   "cell_type": "markdown",
   "metadata": {},
   "source": [
    "Como podemos perceber pelos boxplots, as variáveis com a maior quantidade de *outliers* são `residual sugar`, `chlorides` e `sulphates`. Sendo assim, vamos calcular o IQR para essas três variáveis e definir o limite de corte para eliminar os outliers."
   ]
  },
  {
   "cell_type": "code",
   "execution_count": 41,
   "metadata": {},
   "outputs": [
    {
     "name": "stdout",
     "output_type": "stream",
     "text": [
      "IQR da variável residual sugar: 0.7\n",
      "\n",
      "Limite superior de residual sugar: 3.65\n",
      "Limite inferior de residual sugar: 0.85\n"
     ]
    }
   ],
   "source": [
    "# Identificando os outliers para a variável residual sugar\n",
    "q1_rsugar = df['residual sugar'].quantile(0.25)\n",
    "q3_rsugar = df['residual sugar'].quantile(0.75)\n",
    "IQR_rsugar = q3_rsugar - q1_rsugar\n",
    "\n",
    "print(\"IQR da variável residual sugar: {}\\n\".format(round(IQR_rsugar, 2)))\n",
    "\n",
    "# Definindo os limites para a variável residual sugar\n",
    "sup_rsugar = q3_rsugar + 1.5 * IQR_rsugar\n",
    "inf_rsugar = q1_rsugar - 1.5 * IQR_rsugar\n",
    "\n",
    "print(\"Limite superior de residual sugar: {}\".format(round(sup_rsugar, 2)))\n",
    "print(\"Limite inferior de residual sugar: {}\".format(round(inf_rsugar, 2)))"
   ]
  },
  {
   "cell_type": "code",
   "execution_count": 59,
   "metadata": {},
   "outputs": [
    {
     "name": "stdout",
     "output_type": "stream",
     "text": [
      "As entradas da variável residual sugar fora dos limites representam 9.69 % do dataset.\n",
      "\n"
     ]
    }
   ],
   "source": [
    "cut_rsugar = len(df[df['residual sugar'] < 0.85]) + len(df[df['residual sugar'] > 3.65])\n",
    "\n",
    "print(\"As entradas da variável residual sugar fora dos limites representam {} % do dataset.\\n\".format(round((cut_rsugar / df.shape[0]) * 100, 2)))"
   ]
  },
  {
   "cell_type": "code",
   "execution_count": 60,
   "metadata": {},
   "outputs": [
    {
     "name": "stdout",
     "output_type": "stream",
     "text": [
      "IQR da variável chlorides: 0.02\n",
      "\n",
      "Limite superior de chlorides: 0.12\n",
      "Limite inferior de chlorides: 0.04\n"
     ]
    }
   ],
   "source": [
    "# Identificando os outliers para a variável chlorides\n",
    "q1_chlo = df['chlorides'].quantile(0.25)\n",
    "q3_chlo = df['chlorides'].quantile(0.75)\n",
    "IQR_chlo = q3_chlo - q1_chlo\n",
    "\n",
    "print(\"IQR da variável chlorides: {}\\n\".format(round(IQR_chlo, 2)))\n",
    "\n",
    "# Definindo os limites para a variável chlorides\n",
    "sup_chlo = q3_chlo + 1.5 * IQR_chlo\n",
    "inf_chlo = q1_chlo - 1.5 * IQR_chlo\n",
    "\n",
    "print(\"Limite superior de chlorides: {}\".format(round(sup_chlo, 2)))\n",
    "print(\"Limite inferior de chlorides: {}\".format(round(inf_chlo, 2)))"
   ]
  },
  {
   "cell_type": "code",
   "execution_count": 61,
   "metadata": {},
   "outputs": [
    {
     "name": "stdout",
     "output_type": "stream",
     "text": [
      "As entradas da variável chlorides fora dos limites representam 6.82 % do dataset.\n",
      "\n"
     ]
    }
   ],
   "source": [
    "cut_chlo = len(df[df['chlorides'] < 0.04]) + len(df[df['chlorides'] > 0.12])\n",
    "\n",
    "print(\"As entradas da variável chlorides fora dos limites representam {} % do dataset.\\n\".format(round((cut_chlo / df.shape[0]) * 100, 2)))"
   ]
  },
  {
   "cell_type": "code",
   "execution_count": 44,
   "metadata": {},
   "outputs": [
    {
     "name": "stdout",
     "output_type": "stream",
     "text": [
      "IQR da variável sulphates: 0.18\n",
      "\n",
      "Limite superior de sulphates: 1.0\n",
      "Limite inferior de sulphates: 0.28\n"
     ]
    }
   ],
   "source": [
    "# Identificando os outliers para a variável sulphates\n",
    "q1_sulp = df['sulphates'].quantile(0.25)\n",
    "q3_sulp = df['sulphates'].quantile(0.75)\n",
    "IQR_sulp = q3_sulp - q1_sulp\n",
    "\n",
    "print(\"IQR da variável sulphates: {}\\n\".format(round(IQR_sulp, 2)))\n",
    "\n",
    "# Definindo os limites para a variável sulphates\n",
    "sup_sulp = q3_sulp + 1.5 * IQR_sulp\n",
    "inf_sulp = q1_sulp - 1.5 * IQR_sulp\n",
    "\n",
    "print(\"Limite superior de sulphates: {}\".format(round(sup_sulp, 2)))\n",
    "print(\"Limite inferior de sulphates: {}\".format(round(inf_sulp, 2)))"
   ]
  },
  {
   "cell_type": "code",
   "execution_count": 62,
   "metadata": {},
   "outputs": [
    {
     "name": "stdout",
     "output_type": "stream",
     "text": [
      "As entradas da variável sulphates fora dos limites representam 3.63 % do dataset.\n",
      "\n"
     ]
    }
   ],
   "source": [
    "cut_sulp = len(df[df['sulphates'] < 0.28]) + len(df[df['sulphates'] > 1.0])\n",
    "\n",
    "print(\"As entradas da variável sulphates fora dos limites representam {} % do dataset.\\n\".format(round((cut_sulp / df.shape[0]) * 100, 2)))"
   ]
  },
  {
   "cell_type": "code",
   "execution_count": null,
   "metadata": {},
   "outputs": [],
   "source": []
  }
 ],
 "metadata": {
  "kernelspec": {
   "display_name": "Python 3",
   "language": "python",
   "name": "python3"
  },
  "language_info": {
   "codemirror_mode": {
    "name": "ipython",
    "version": 3
   },
   "file_extension": ".py",
   "mimetype": "text/x-python",
   "name": "python",
   "nbconvert_exporter": "python",
   "pygments_lexer": "ipython3",
   "version": "3.7.4"
  }
 },
 "nbformat": 4,
 "nbformat_minor": 4
}
